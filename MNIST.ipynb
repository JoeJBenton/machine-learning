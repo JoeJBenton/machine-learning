{
  "nbformat": 4,
  "nbformat_minor": 0,
  "metadata": {
    "colab": {
      "name": "MNIST.ipynb",
      "provenance": [],
      "collapsed_sections": [],
      "authorship_tag": "ABX9TyNNVksZx1zJ153NKTa2Sttc"
    },
    "kernelspec": {
      "name": "python3",
      "display_name": "Python 3"
    }
  },
  "cells": [
    {
      "cell_type": "code",
      "metadata": {
        "id": "ydXTpv8Xi9J1",
        "colab_type": "code",
        "colab": {}
      },
      "source": [
        "import torch\n",
        "import torch.nn as nn\n",
        "import torch.optim as optim"
      ],
      "execution_count": 66,
      "outputs": []
    },
    {
      "cell_type": "code",
      "metadata": {
        "id": "tY2sYYjdPkHA",
        "colab_type": "code",
        "colab": {}
      },
      "source": [
        "# Define hyperparameters\n",
        "\n",
        "epochs = 30\n",
        "learning_rate = 3\n",
        "batch_size_train = 30\n",
        "batch_size_test = 1"
      ],
      "execution_count": 67,
      "outputs": []
    },
    {
      "cell_type": "code",
      "metadata": {
        "id": "wS6YiPaGjB5B",
        "colab_type": "code",
        "colab": {}
      },
      "source": [
        "# Import the MNIST dataset and create traning and test data loaders\n",
        "\n",
        "import torchvision\n",
        "\n",
        "mnist_trainset = torchvision.datasets.MNIST(root='./data', train=True, \n",
        "                    download=True, transform=torchvision.transforms.ToTensor())\n",
        "mnist_testset = torchvision.datasets.MNIST(root='./data', train=False, \n",
        "                    download=True, transform=torchvision.transforms.ToTensor())\n",
        "\n",
        "train_loader = torch.utils.data.DataLoader(mnist_trainset, \n",
        "                                    batch_size=batch_size_train, shuffle=True)\n",
        "test_loader = torch.utils.data.DataLoader(mnist_testset, \n",
        "                                    batch_size=batch_size_test, shuffle=True)"
      ],
      "execution_count": 68,
      "outputs": []
    },
    {
      "cell_type": "code",
      "metadata": {
        "id": "PCc-sooBjqYY",
        "colab_type": "code",
        "colab": {}
      },
      "source": [
        "# Define the neural network architecture and cost functions\n",
        "\n",
        "class Net(nn.Module):\n",
        "  def __init__(self):\n",
        "    super(Net, self).__init__()\n",
        "    self.fc1 = nn.Linear(784,30)\n",
        "    self.fc2 = nn.Linear(30,10)\n",
        "\n",
        "  def forward(self, x):\n",
        "    x = x.view(-1, 784)\n",
        "    x = torch.sigmoid(self.fc1(x))\n",
        "    x = torch.sigmoid(self.fc2(x))\n",
        "    return x\n",
        "\n",
        "net = Net()\n",
        "criterion = nn.MSELoss()"
      ],
      "execution_count": 69,
      "outputs": []
    },
    {
      "cell_type": "code",
      "metadata": {
        "id": "7UUx2nzilYvY",
        "colab_type": "code",
        "colab": {}
      },
      "source": [
        "# Define an evaluation function to evaluate the network against the test data\n",
        "\n",
        "def evaluate():\n",
        "  correct = 0\n",
        "  for batch, (input, output) in enumerate(test_loader):\n",
        "    if output == torch.argmax(net(input)):\n",
        "      correct += 1\n",
        "  correct_rate = 100*correct/len(test_loader)\n",
        "  print(\"Success rate: %s%%\" % correct_rate)"
      ],
      "execution_count": 70,
      "outputs": []
    },
    {
      "cell_type": "code",
      "metadata": {
        "id": "fp53PDLYr1Yq",
        "colab_type": "code",
        "colab": {
          "base_uri": "https://localhost:8080/",
          "height": 1000
        },
        "outputId": "dfb5b94e-bebd-48c9-bcfc-9b6d51f2498b"
      },
      "source": [
        "# Evaluate the initial network - this should give a success rate of about 10%\n",
        "\n",
        "print(\"Evaluating...\")\n",
        "evaluate()\n",
        "\n",
        "# Update the network using SGD and the chosen hyperparameters\n",
        "\n",
        "optimizer = optim.SGD(net.parameters(), lr=learning_rate)\n",
        "\n",
        "for epoch in range(1,epochs+1):\n",
        "  print(\"Epoch %s\" % epoch)\n",
        "  print(\"Training...\")\n",
        "  for batch, (input, labels) in enumerate(train_loader):\n",
        "    optimizer.zero_grad()\n",
        "    output = net(input)\n",
        "    target = torch.zeros_like(output)\n",
        "    for index, label in zip(range(len(labels)), labels):\n",
        "      target[index][label] = 1.\n",
        "    loss = criterion(output, target)\n",
        "    loss.backward()\n",
        "    optimizer.step()\n",
        "  print(\"Evaluating...\")\n",
        "  evaluate()"
      ],
      "execution_count": 71,
      "outputs": [
        {
          "output_type": "stream",
          "text": [
            "Evaluating...\n",
            "Success rate: 11.35%\n",
            "Epoch 1\n",
            "Training...\n",
            "Evaluating...\n",
            "Success rate: 90.37%\n",
            "Epoch 2\n",
            "Training...\n",
            "Evaluating...\n",
            "Success rate: 92.27%\n",
            "Epoch 3\n",
            "Training...\n",
            "Evaluating...\n",
            "Success rate: 93.25%\n",
            "Epoch 4\n",
            "Training...\n",
            "Evaluating...\n",
            "Success rate: 93.62%\n",
            "Epoch 5\n",
            "Training...\n",
            "Evaluating...\n",
            "Success rate: 94.13%\n",
            "Epoch 6\n",
            "Training...\n",
            "Evaluating...\n",
            "Success rate: 94.18%\n",
            "Epoch 7\n",
            "Training...\n",
            "Evaluating...\n",
            "Success rate: 94.44%\n",
            "Epoch 8\n",
            "Training...\n",
            "Evaluating...\n",
            "Success rate: 94.69%\n",
            "Epoch 9\n",
            "Training...\n",
            "Evaluating...\n",
            "Success rate: 94.95%\n",
            "Epoch 10\n",
            "Training...\n",
            "Evaluating...\n",
            "Success rate: 94.99%\n",
            "Epoch 11\n",
            "Training...\n",
            "Evaluating...\n",
            "Success rate: 95.11%\n",
            "Epoch 12\n",
            "Training...\n",
            "Evaluating...\n",
            "Success rate: 95.2%\n",
            "Epoch 13\n",
            "Training...\n",
            "Evaluating...\n",
            "Success rate: 95.33%\n",
            "Epoch 14\n",
            "Training...\n",
            "Evaluating...\n",
            "Success rate: 95.37%\n",
            "Epoch 15\n",
            "Training...\n",
            "Evaluating...\n",
            "Success rate: 95.37%\n",
            "Epoch 16\n",
            "Training...\n",
            "Evaluating...\n",
            "Success rate: 95.58%\n",
            "Epoch 17\n",
            "Training...\n",
            "Evaluating...\n",
            "Success rate: 95.55%\n",
            "Epoch 18\n",
            "Training...\n",
            "Evaluating...\n",
            "Success rate: 95.55%\n",
            "Epoch 19\n",
            "Training...\n",
            "Evaluating...\n",
            "Success rate: 95.62%\n",
            "Epoch 20\n",
            "Training...\n",
            "Evaluating...\n",
            "Success rate: 95.74%\n",
            "Epoch 21\n",
            "Training...\n",
            "Evaluating...\n",
            "Success rate: 95.68%\n",
            "Epoch 22\n",
            "Training...\n",
            "Evaluating...\n",
            "Success rate: 95.71%\n",
            "Epoch 23\n",
            "Training...\n",
            "Evaluating...\n",
            "Success rate: 95.88%\n",
            "Epoch 24\n",
            "Training...\n",
            "Evaluating...\n",
            "Success rate: 95.79%\n",
            "Epoch 25\n",
            "Training...\n",
            "Evaluating...\n",
            "Success rate: 95.85%\n",
            "Epoch 26\n",
            "Training...\n",
            "Evaluating...\n",
            "Success rate: 95.95%\n",
            "Epoch 27\n",
            "Training...\n",
            "Evaluating...\n",
            "Success rate: 95.95%\n",
            "Epoch 28\n",
            "Training...\n",
            "Evaluating...\n",
            "Success rate: 95.81%\n",
            "Epoch 29\n",
            "Training...\n",
            "Evaluating...\n",
            "Success rate: 95.91%\n",
            "Epoch 30\n",
            "Training...\n",
            "Evaluating...\n",
            "Success rate: 95.97%\n"
          ],
          "name": "stdout"
        }
      ]
    },
    {
      "cell_type": "code",
      "metadata": {
        "id": "RcrTcVsPB5rT",
        "colab_type": "code",
        "colab": {
          "base_uri": "https://localhost:8080/",
          "height": 473
        },
        "outputId": "f5e96eec-bd30-476e-e0a3-4edc2b8a9d21"
      },
      "source": [
        "# Display an example where the network is making a mistake\n",
        "\n",
        "import matplotlib.pyplot as plt\n",
        "\n",
        "for batch, (input, target) in enumerate(test_loader):\n",
        "  output = net(input)\n",
        "  if target != torch.argmax(output):\n",
        "    print(\"Label: %s\" % target)\n",
        "    print(\"Network probabilities:\")\n",
        "    for label in range(10):\n",
        "      print(\"%s: %.3f\" % (label, output[0][label]))\n",
        "    plt.imshow(input.squeeze())\n",
        "    break"
      ],
      "execution_count": 72,
      "outputs": [
        {
          "output_type": "stream",
          "text": [
            "Label: tensor([3])\n",
            "Network probabilities:\n",
            "0: 0.001\n",
            "1: 0.000\n",
            "2: 0.481\n",
            "3: 0.126\n",
            "4: 0.001\n",
            "5: 0.000\n",
            "6: 0.013\n",
            "7: 0.000\n",
            "8: 0.028\n",
            "9: 0.000\n"
          ],
          "name": "stdout"
        },
        {
          "output_type": "display_data",
          "data": {
            "image/png": "[encoded data removed]",
            "text/plain": [
              "<Figure size 432x288 with 1 Axes>"
            ]
          },
          "metadata": {
            "tags": [],
            "needs_background": "light"
          }
        }
      ]
    }
  ]
}